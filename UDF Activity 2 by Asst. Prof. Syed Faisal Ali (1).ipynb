{
 "cells": [
  {
   "cell_type": "markdown",
   "metadata": {},
   "source": [
    "# Python User Define Function Practice Activity - 2 "
   ]
  },
  {
   "cell_type": "markdown",
   "metadata": {},
   "source": [
    "Asst. Prof. Syed Faisal Ali              $\\;\\;\\;\\;\\;\\;$              Programming Fundamentals - FALL 2019 $\\;\\;\\;\\;\\;\\;$ Software Engineering                     $\\;\\;\\;\\;\\;\\;$                   Dated: 27 Nov 2019"
   ]
  },
  {
   "cell_type": "markdown",
   "metadata": {},
   "source": [
    "Question 1: Create a function to find the following:\n",
    "If the base of triangle is 3 cm long and its equilateral triangle and the radius of circle is 1.5 cm then find the area of triangle shaded. \n"
   ]
  },
  {
   "cell_type": "markdown",
   "metadata": {},
   "source": [
    "![proj](q1.jpg)"
   ]
  },
  {
   "cell_type": "code",
   "execution_count": 16,
   "metadata": {},
   "outputs": [
    {
     "name": "stdout",
     "output_type": "stream",
     "text": [
      "16.314102431602805\n"
     ]
    }
   ],
   "source": [
    "import math\n",
    "def area(r):\n",
    "    x1=(((math.sqrt(3))/4)*(3**2))*6\n",
    "    x3=(math.pi)*(r**2)\n",
    "    a=x1-x3\n",
    "    print(a)\n",
    "area(1.5)    \n",
    "    \n",
    "    \n",
    "    "
   ]
  },
  {
   "cell_type": "markdown",
   "metadata": {},
   "source": [
    "Question 2: Create a function which can read a dictionary of your family members such as 5 members. \n",
    "1 Abbu, 1 Ammi, 2 Brothers 1 Sister. Now feed this data in dictionary in terms of name and relations.\n",
    "The UDF will ask findrelation() in this you will enter Brother it will return the names of two brothers you have inserted. In case if the relation is not found it will return “Sorry the relation doesn’t exist in your family.” \n"
   ]
  },
  {
   "cell_type": "code",
   "execution_count": 29,
   "metadata": {},
   "outputs": [
    {
     "name": "stdout",
     "output_type": "stream",
     "text": [
      "haider\n"
     ]
    }
   ],
   "source": [
    "def member(x):\n",
    "    family_members={\"abbu\":\"munawer\",\"ami\":\"almas\",\"brother1\":\"haider\",\"brother2\":\"sorry the relation doesn't exist in your family\",\"sister\":\"sorry the relation does't exist in your family\"}\n",
    "    a=family_members[x]\n",
    "    print(a)\n",
    "member(\"brother1\")\n"
   ]
  },
  {
   "cell_type": "markdown",
   "metadata": {},
   "source": [
    "Question 3: Create a function to find the following:\n",
    "If the base of triangle is 5 cm long and its equilateral triangle and the radius of circle is 2.25 cm then find the area of triangle shaded. \n"
   ]
  },
  {
   "cell_type": "markdown",
   "metadata": {},
   "source": [
    "![proj](q3.jpg)"
   ]
  },
  {
   "cell_type": "code",
   "execution_count": 30,
   "metadata": {},
   "outputs": [
    {
     "name": "stdout",
     "output_type": "stream",
     "text": [
      "49.04759247503458\n"
     ]
    }
   ],
   "source": [
    "import math\n",
    "def area(r):\n",
    "    x1=(((math.sqrt(3))/4)*(5**2))*6\n",
    "    x3=(math.pi)*(r**2)\n",
    "    a=x1-x3\n",
    "    print(a)\n",
    "area(2.25)    \n",
    "    \n",
    "    "
   ]
  },
  {
   "cell_type": "markdown",
   "metadata": {},
   "source": [
    "Question 4:\n",
    "Create a function that takes a list of random numbers from users and add only those which are even. If all the numbers are odd it will return sorry no even number found.\n"
   ]
  },
  {
   "cell_type": "code",
   "execution_count": 41,
   "metadata": {},
   "outputs": [
    {
     "data": {
      "text/plain": [
       "10"
      ]
     },
     "execution_count": 41,
     "metadata": {},
     "output_type": "execute_result"
    }
   ],
   "source": [
    "def numbers(x,x1):\n",
    "    if x%2==0 and x1%2==0:\n",
    "        res=(x+x1)\n",
    "        return res\n",
    "    else:\n",
    "       print(\"no even number\")\n",
    "numbers(2,8)    "
   ]
  },
  {
   "cell_type": "markdown",
   "metadata": {},
   "source": [
    "Question 5:\n",
    "Write a function which can take a list of numbers and it will return sorted list.\n"
   ]
  },
  {
   "cell_type": "code",
   "execution_count": 50,
   "metadata": {},
   "outputs": [
    {
     "name": "stdout",
     "output_type": "stream",
     "text": [
      "[1, 2, 3, 4, 4, 5, 6, 9]\n"
     ]
    }
   ],
   "source": [
    "def numbers(*numbers):\n",
    "    ls=list()\n",
    "    for num in numbers:\n",
    "        ls.append(num)\n",
    "    ls.sort()   \n",
    "    print(ls)\n",
    "numbers(1,4,6,3,5,9,4,2)    "
   ]
  },
  {
   "cell_type": "markdown",
   "metadata": {},
   "source": [
    "Question 6:\n",
    "Write a function that will take the radius and return the perimeter and area of circle with 5% increment.\n"
   ]
  },
  {
   "cell_type": "code",
   "execution_count": 58,
   "metadata": {},
   "outputs": [
    {
     "name": "stdout",
     "output_type": "stream",
     "text": [
      "area of cirlce: 12.666370614359172\n",
      "perimeter: 12.566370614359172\n"
     ]
    }
   ],
   "source": [
    "import math\n",
    "def incre(n):\n",
    "    area=math.pi*n**2\n",
    "    f=0.5\n",
    "    area_cir=area+0.1\n",
    "    perimeter=2*math.pi*n\n",
    "    print('area of cirlce:',area_cir)\n",
    "    print('perimeter:',perimeter)         \n",
    "incre(2)"
   ]
  },
  {
   "cell_type": "markdown",
   "metadata": {},
   "source": [
    "Question 7:\n",
    "Write a function that will take the strings as argument and return number of vowels and consonants.\n"
   ]
  },
  {
   "cell_type": "code",
   "execution_count": 1,
   "metadata": {},
   "outputs": [
    {
     "name": "stdout",
     "output_type": "stream",
     "text": [
      "vowels 5\n",
      "consonant 8\n"
     ]
    }
   ],
   "source": [
    "def vowels(x):\n",
    "    vow=0\n",
    "    cons=0\n",
    "    for i in x:\n",
    "        if i in \"aeiouAEIOU\":\n",
    "            vow+=1\n",
    "        else:\n",
    "            cons+=1\n",
    "    print(\"vowels\",vow)\n",
    "    print(\"consonant\",cons)\n",
    "vowels(\"saif ul wahab\")"
   ]
  },
  {
   "cell_type": "markdown",
   "metadata": {},
   "source": [
    "Question 8:\n",
    "Write a function that will take length and breadth for a rectangle and return perimeter and area of rectangle with 8% increment.\n"
   ]
  },
  {
   "cell_type": "code",
   "execution_count": 2,
   "metadata": {},
   "outputs": [
    {
     "name": "stdout",
     "output_type": "stream",
     "text": [
      "the perimeter of rectangle is  30.240000000000002 \n",
      "the area of rectangle is  43.2\n"
     ]
    }
   ],
   "source": [
    "def peri_area(l,b):\n",
    "    p=2*(l+b)\n",
    "    a=l*b\n",
    "    x=p/12.5+p\n",
    "    y=a/12.5+a\n",
    "    print(\"the perimeter of rectangle is \",x,\"\\nthe area of rectangle is \",y)\n",
    "peri_area(4,10)"
   ]
  },
  {
   "cell_type": "markdown",
   "metadata": {},
   "source": [
    "Question 9:\n",
    "Write a function that can take the numbers in strings. From string find which number is even and which one is odd. Save them in two different lists and generate the result.\n"
   ]
  },
  {
   "cell_type": "code",
   "execution_count": 3,
   "metadata": {},
   "outputs": [
    {
     "name": "stdout",
     "output_type": "stream",
     "text": [
      "even list are  [62, 12] \n",
      "odd list are  [43, 45, 25, 31]\n"
     ]
    }
   ],
   "source": [
    "def str1(a,b,c,d,e,f):\n",
    "    even=[]\n",
    "    odd=[]\n",
    "    lst=[a,b,c,d,e,f]\n",
    "    for i in lst:\n",
    "        if i%2==0:\n",
    "            even.append(i)\n",
    "        else:\n",
    "            odd.append(i)\n",
    "    print(\"even list are \",even,\"\\nodd list are \",odd)\n",
    "str1(43,45,25,31,62,12)"
   ]
  },
  {
   "cell_type": "markdown",
   "metadata": {},
   "source": [
    "Question 10:\n",
    "Write a function which will take the string from the user and return how many alphabets have been used in it and which alphabets are missing.\n"
   ]
  },
  {
   "cell_type": "code",
   "execution_count": 4,
   "metadata": {},
   "outputs": [
    {
     "name": "stdout",
     "output_type": "stream",
     "text": [
      "missing alphabets ['b', 'c', 'd', 'e', 'g', 'h', 'j', 'k', 'l', 'm', 'n', 'o', 'p', 'q', 'r', 't', 'u', 'v', 'w', 'x', 'y', 'z']\n",
      "used alphabets saif\n",
      "s a i f "
     ]
    }
   ],
   "source": [
    "def alpha(s):\n",
    "    alphabets=['a','b','c','d','e','f','g','h','i','j','k','l','m','n','o','p','q','r','s','t','u','v','w','x','y','z']\n",
    "    for i in s:\n",
    "        alphabets.remove(i)\n",
    "    print('missing alphabets',alphabets)\n",
    "    print(\"used alphabets\",s)\n",
    "    for i in s:\n",
    "        print(i,end=\" \")\n",
    "alpha(\"saif\")"
   ]
  },
  {
   "cell_type": "markdown",
   "metadata": {},
   "source": [
    "Question 11:\n",
    "Write a function that will take verbs in words and return a list of verbs with continuous tense by adding (ing) at the end of each verb.\n"
   ]
  },
  {
   "cell_type": "code",
   "execution_count": 5,
   "metadata": {},
   "outputs": [
    {
     "name": "stdout",
     "output_type": "stream",
     "text": [
      "laying\n",
      "playing\n"
     ]
    }
   ],
   "source": [
    "def verb(x):\n",
    "    return x+\"ing\"\n",
    "print(verb(\"lay\"))\n",
    "print(verb(\"play\"))"
   ]
  },
  {
   "cell_type": "markdown",
   "metadata": {},
   "source": [
    "Question 12:\n",
    "Make a function which can take two radius of circles and find the areas of it and subtract smaller one from larger one and tell the remaining area of circle.\n"
   ]
  },
  {
   "cell_type": "code",
   "execution_count": 57,
   "metadata": {},
   "outputs": [
    {
     "name": "stdout",
     "output_type": "stream",
     "text": [
      "the area of circle is  150.79644737231007\n",
      "None\n",
      "the area of circle is  53.40707511102647\n",
      "None\n"
     ]
    }
   ],
   "source": [
    "import math\n",
    "def area(rad1,rad2):\n",
    "    area_1=math.pi*rad1*rad1\n",
    "    area_2=math.pi*rad2*rad2\n",
    "    if rad1>rad2:\n",
    "        area=area_1-area_2\n",
    "        print(\"the area of circle is \",area)\n",
    "    elif rad1<rad2:\n",
    "        area=area_2-area_1\n",
    "        print(\"the area of circle is \",area)\n",
    "print(area(4,8))\n",
    "print(area(8,9))"
   ]
  },
  {
   "cell_type": "markdown",
   "metadata": {},
   "source": [
    "Question 13:\n",
    "Write a function that will take a string and calculate number of Upper case letters and lower case letters.\n"
   ]
  },
  {
   "cell_type": "code",
   "execution_count": 51,
   "metadata": {},
   "outputs": [
    {
     "name": "stdout",
     "output_type": "stream",
     "text": [
      "original string: Fly Like a Superman \n",
      "no of upper case characters: 3\n",
      "no of lower case characters: 13\n"
     ]
    }
   ],
   "source": [
    "def string(s):\n",
    "    d={\"UPPER_CASE\":0,\"LOWER_CASE\":0}\n",
    "    for i in s:\n",
    "        if i.isupper():\n",
    "            d[\"UPPER_CASE\"]+=1\n",
    "        elif i.islower():\n",
    "            d[\"LOWER_CASE\"]+=1\n",
    "        else:\n",
    "            pass\n",
    "    print(\"original string:\",s)\n",
    "    print(\"no of upper case characters:\",d[\"UPPER_CASE\"])\n",
    "    print(\"no of lower case characters:\",d[\"LOWER_CASE\"])\n",
    "string(\"Fly Like a Superman \")    "
   ]
  },
  {
   "cell_type": "markdown",
   "metadata": {},
   "source": [
    "Question 14:\n",
    "Write a function which will take length and breadth of two rectangles. Subtract the smaller rectangle from the larger rectangle and return the area left behind.\n"
   ]
  },
  {
   "cell_type": "code",
   "execution_count": 56,
   "metadata": {},
   "outputs": [
    {
     "name": "stdout",
     "output_type": "stream",
     "text": [
      "the area of rectangle is  28  m.sq\n",
      "the area of rectangle is  5  m.sq\n"
     ]
    }
   ],
   "source": [
    "def area_rectangle(len1,bread1,len2,bread2):\n",
    "    area_1 = len1*bread1\n",
    "    area_2 = len2*bread2\n",
    "    if area_1>area_2:\n",
    "        area = area_1-area_2\n",
    "        print(\"the area of rectangle is \",area,\" m.sq\")\n",
    "    elif area_2>area_1:\n",
    "        area = area_2-area_1\n",
    "        print(\"the area of rectangle is \",area,\" m.sq\")\n",
    "area_rectangle(4,5,6,8)\n",
    "area_rectangle(1,2,1,7)"
   ]
  },
  {
   "cell_type": "markdown",
   "metadata": {},
   "source": [
    "Question 15:\n",
    "Create a function that can add the fractions in series such as 1 to 8 = 1/8+1/7+1/6+1/5 …… ½ and return the result in fraction not in decimal.\n"
   ]
  },
  {
   "cell_type": "code",
   "execution_count": 55,
   "metadata": {},
   "outputs": [
    {
     "name": "stdout",
     "output_type": "stream",
     "text": [
      "3349/2520\n"
     ]
    }
   ],
   "source": [
    "import fractions\n",
    "def fraction(x1,x2):\n",
    "    lst = []\n",
    "    for i in range(x1,x2+1):\n",
    "        x=fractions.Fraction(1,i)\n",
    "        lst.append(x)\n",
    "    print(sum(lst))\n",
    "fraction(3,9)"
   ]
  },
  {
   "cell_type": "markdown",
   "metadata": {},
   "source": [
    "Question 16:\n",
    "Write a function which will take height and base for a triangle and \n"
   ]
  },
  {
   "cell_type": "code",
   "execution_count": null,
   "metadata": {},
   "outputs": [],
   "source": []
  },
  {
   "cell_type": "markdown",
   "metadata": {},
   "source": [
    "Question 17:\n",
    "Write a function which will take a list of fruits names. The function will return how many alphabets are repetitive in the names of fruits and how many are unique letters.\n"
   ]
  },
  {
   "cell_type": "code",
   "execution_count": null,
   "metadata": {},
   "outputs": [],
   "source": []
  },
  {
   "cell_type": "markdown",
   "metadata": {},
   "source": [
    "Question 18:\n",
    "Write a function that can take square length and radius of circle. Find the area of both and subtract the smallest shape from largest one and return the remaining shape area.\n"
   ]
  },
  {
   "cell_type": "code",
   "execution_count": 52,
   "metadata": {},
   "outputs": [
    {
     "name": "stdout",
     "output_type": "stream",
     "text": [
      "the area of shape is  4514\n",
      "the area of shape is  7375\n"
     ]
    }
   ],
   "source": [
    "def shape_area(x1,r1,x2,r2):    \n",
    "    area1=x1*x1*r1\n",
    "    area2=x2*x2*r2\n",
    "    if area1>area2:\n",
    "        area=area1-area2\n",
    "        print(\"the area of shape is \",area)\n",
    "    elif area2>area1:\n",
    "        area=area2-area1\n",
    "        print(\"the area of shape is \",area)\n",
    "shape_area(9,6,10,50)\n",
    "shape_area(25,17,60,5)"
   ]
  }
 ],
 "metadata": {
  "kernelspec": {
   "display_name": "Python 3",
   "language": "python",
   "name": "python3"
  },
  "language_info": {
   "codemirror_mode": {
    "name": "ipython",
    "version": 3
   },
   "file_extension": ".py",
   "mimetype": "text/x-python",
   "name": "python",
   "nbconvert_exporter": "python",
   "pygments_lexer": "ipython3",
   "version": "3.7.4"
  }
 },
 "nbformat": 4,
 "nbformat_minor": 2
}
